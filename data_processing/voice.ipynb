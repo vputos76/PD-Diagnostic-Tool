{
 "cells": [
  {
   "cell_type": "code",
   "execution_count": 15,
   "metadata": {},
   "outputs": [],
   "source": [
    "import os\n",
    "from feature_extraction_all import Feature_Extraction_v\n",
    "import pandas as pd"
   ]
  },
  {
   "cell_type": "markdown",
   "metadata": {},
   "source": [
    "## Figshare"
   ]
  },
  {
   "cell_type": "code",
   "execution_count": null,
   "metadata": {},
   "outputs": [
    {
     "name": "stdout",
     "output_type": "stream",
     "text": [
      "File is valid WAV format.\n",
      "File is valid WAV format.\n",
      "File is valid WAV format.\n",
      "File is valid WAV format.\n",
      "File is valid WAV format.\n",
      "File is valid WAV format.\n",
      "File is valid WAV format.\n",
      "File is valid WAV format.\n",
      "File is valid WAV format.\n",
      "File is valid WAV format.\n",
      "File is valid WAV format.\n",
      "File is valid WAV format.\n",
      "File is valid WAV format.\n",
      "File is valid WAV format.\n",
      "File is valid WAV format.\n",
      "File is valid WAV format.\n",
      "File is valid WAV format.\n",
      "File is valid WAV format.\n",
      "File is valid WAV format.\n",
      "File is valid WAV format.\n",
      "File is valid WAV format.\n",
      "File is valid WAV format.\n",
      "File is valid WAV format.\n",
      "File is valid WAV format.\n",
      "File is valid WAV format.\n",
      "File is valid WAV format.\n",
      "File is valid WAV format.\n",
      "File is valid WAV format.\n",
      "File is valid WAV format.\n",
      "File is valid WAV format.\n",
      "File is valid WAV format.\n",
      "File is valid WAV format.\n",
      "File is valid WAV format.\n",
      "File is valid WAV format.\n",
      "File is valid WAV format.\n",
      "File is valid WAV format.\n",
      "File is valid WAV format.\n",
      "File is valid WAV format.\n",
      "File is valid WAV format.\n",
      "File is valid WAV format.\n",
      "File is valid WAV format.\n"
     ]
    }
   ],
   "source": [
    "dataframes = []\n",
    "folder_path = \"/home/varsallz/Diagnostic_Aid_PD/data/voice/FIGSHARE/HC_AH/HC_AH\"\n",
    "for file in os.listdir(folder_path):\n",
    "    if file.endswith('.wav'):\n",
    "        file_path = os.path.join(folder_path, file)\n",
    "        Feature_Extraction_v.remove_noise_and_trim(Feature_Extraction_v, file_path, \"output.wav\")\n",
    "        df_voice_HC = Feature_Extraction_v.extract_voice_features(Feature_Extraction_v, \"output.wav\", f0_min=20, f0_max=20000, unit=\"Hertz\")\n",
    "        dataframes.append(df_voice_HC)\n",
    "\n",
    "HC_df = pd.concat(dataframes, axis=0)"
   ]
  },
  {
   "cell_type": "code",
   "execution_count": 19,
   "metadata": {},
   "outputs": [
    {
     "name": "stdout",
     "output_type": "stream",
     "text": [
      "File is valid WAV format.\n",
      "File is valid WAV format.\n",
      "File is valid WAV format.\n",
      "File is valid WAV format.\n",
      "File is valid WAV format.\n",
      "File is valid WAV format.\n",
      "File is valid WAV format.\n",
      "File is valid WAV format.\n",
      "File is valid WAV format.\n",
      "File is valid WAV format.\n",
      "File is valid WAV format.\n",
      "File is valid WAV format.\n",
      "File is valid WAV format.\n",
      "File is valid WAV format.\n",
      "File is valid WAV format.\n",
      "File is valid WAV format.\n",
      "File is valid WAV format.\n",
      "File is valid WAV format.\n",
      "File is valid WAV format.\n",
      "File is valid WAV format.\n",
      "File is valid WAV format.\n",
      "File is valid WAV format.\n",
      "File is valid WAV format.\n",
      "File is valid WAV format.\n",
      "File is valid WAV format.\n",
      "File is valid WAV format.\n",
      "File is valid WAV format.\n",
      "File is valid WAV format.\n",
      "File is valid WAV format.\n",
      "File is valid WAV format.\n",
      "File is valid WAV format.\n",
      "File is valid WAV format.\n",
      "File is valid WAV format.\n",
      "File is valid WAV format.\n",
      "File is valid WAV format.\n",
      "File is valid WAV format.\n",
      "File is valid WAV format.\n",
      "File is valid WAV format.\n",
      "File is valid WAV format.\n",
      "File is valid WAV format.\n"
     ]
    }
   ],
   "source": [
    "dataframes1 = []\n",
    "folder_path1 = \"/home/varsallz/Diagnostic_Aid_PD/data/voice/FIGSHARE/PD_AH/PD_AH\"\n",
    "for file in os.listdir(folder_path1):\n",
    "    if file.endswith('.wav'):\n",
    "        file_path = os.path.join(folder_path1, file)\n",
    "        Feature_Extraction_v.remove_noise_and_trim(Feature_Extraction_v, file_path, \"output.wav\")\n",
    "        df_voice_HC1 = Feature_Extraction_v.extract_voice_features(Feature_Extraction_v, \"output.wav\", f0_min=20, f0_max=20000, unit=\"Hertz\")\n",
    "        dataframes1.append(df_voice_HC1)\n",
    "\n",
    "PD_df = pd.concat(dataframes1, axis=0)"
   ]
  },
  {
   "cell_type": "code",
   "execution_count": 29,
   "metadata": {},
   "outputs": [],
   "source": [
    "HC_df['label'] = 0\n",
    "PD_df['label'] = 1\n",
    "df_Fig = pd.concat([HC_df, PD_df], axis=0)\n",
    "df_Fig = df_Fig.sample(frac=1, random_state=41).reset_index(drop=True)\n",
    "df_Fig.to_csv('voice_Figshare.csv')"
   ]
  },
  {
   "cell_type": "markdown",
   "metadata": {},
   "source": [
    "## Neurozov\n"
   ]
  },
  {
   "cell_type": "code",
   "execution_count": null,
   "metadata": {},
   "outputs": [],
   "source": [
    "ataframes = []\n",
    "folder_path = \"/home/varsallz/Diagnostic_Aid_PD/data/voice/neurovoz_v3/data/audios\"\n",
    "for file in os.listdir(folder_path):\n",
    "    if file.endswith('.wav'):\n",
    "        if file.startswith('HC_A1') or file.startswith('HC_A2') or file.startswith('HC_A3'):\n",
    "            file_path = os.path.join(folder_path, file)\n",
    "            Feature_Extraction_v.remove_noise_and_trim(Feature_Extraction_v, file_path, \"output.wav\")\n",
    "            df_voice_HC = Feature_Extraction_v.extract_voice_features(Feature_Extraction_v, \"output.wav\", f0_min=20, f0_max=20000, unit=\"Hertz\")\n",
    "            dataframes.append(df_voice_HC)\n",
    "\n",
    "HC_df = pd.concat(dataframes, axis=0)\n",
    "\n",
    "dataframes1 = []\n",
    "folder_path1 = \"/home/varsallz/Diagnostic_Aid_PD/data/voice/neurovoz_v3/data/audios\"\n",
    "\n",
    "for file in os.listdir(folder_path1):\n",
    "    if file.endswith('.wav'):\n",
    "        if file.startswith('PD_A1') or file.startswith('PD_A2') or file.startswith('PD_A3'):\n",
    "            file_path = os.path.join(folder_path1, file)\n",
    "            Feature_Extraction_v.remove_noise_and_trim(Feature_Extraction_v, file_path, \"output.wav\")\n",
    "            df_voice_HC1 = Feature_Extraction_v.extract_voice_features(Feature_Extraction_v, \"output.wav\", f0_min=20, f0_max=20000, unit=\"Hertz\")\n",
    "            dataframes1.append(df_voice_HC1)\n",
    "\n",
    "PD_df = pd.concat(dataframes1, axis=0)\n",
    "\n",
    "\n",
    "HC_df['label'] = 0\n",
    "PD_df['label'] = 1\n",
    "df_Fig = pd.concat([HC_df, PD_df], axis=0)\n",
    "df_Neurozov = df_Fig.sample(frac=1).reset_index(drop=True)\n",
    "df_Neurozov.to_csv('voice_Neurozov.csv')"
   ]
  }
 ],
 "metadata": {
  "kernelspec": {
   "display_name": ".venv",
   "language": "python",
   "name": "python3"
  },
  "language_info": {
   "codemirror_mode": {
    "name": "ipython",
    "version": 3
   },
   "file_extension": ".py",
   "mimetype": "text/x-python",
   "name": "python",
   "nbconvert_exporter": "python",
   "pygments_lexer": "ipython3",
   "version": "3.10.12"
  }
 },
 "nbformat": 4,
 "nbformat_minor": 2
}
